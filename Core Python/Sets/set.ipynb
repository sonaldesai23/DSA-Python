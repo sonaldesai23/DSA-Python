{
 "cells": [
  {
   "cell_type": "code",
   "execution_count": 1,
   "id": "fe0445c2",
   "metadata": {},
   "outputs": [
    {
     "name": "stdout",
     "output_type": "stream",
     "text": [
      "{10, 20, 30}\n",
      "{1.45, (1, 2, 3), 20, 'Hello'}\n"
     ]
    }
   ],
   "source": [
    "# Set declaration\n",
    "set1 = {10, 20, 30}\n",
    "print(set1)\n",
    "\n",
    "set2 = {1.45, 20, \"Hello\", (1, 2, 3)}\n",
    "print(set2)"
   ]
  },
  {
   "cell_type": "code",
   "execution_count": 2,
   "id": "c766ac00",
   "metadata": {},
   "outputs": [
    {
     "name": "stdout",
     "output_type": "stream",
     "text": [
      "<class 'set'>\n"
     ]
    }
   ],
   "source": [
    "# Empty set (must use set(), {} creates a dictionary)\n",
    "set3 = set()\n",
    "print(type(set3))  # o/p -> <class 'set'>"
   ]
  },
  {
   "cell_type": "code",
   "execution_count": null,
   "id": "73c27ed6",
   "metadata": {},
   "outputs": [
    {
     "name": "stdout",
     "output_type": "stream",
     "text": [
      "{50, 20, 40, 10, 30}\n"
     ]
    }
   ],
   "source": [
    "# Duplicates are automatically removed in a set\n",
    "set4 = {10, 20, 30, 40, 10, 20, 50}\n",
    "print(set4)"
   ]
  },
  {
   "cell_type": "code",
   "execution_count": 4,
   "id": "abad2077",
   "metadata": {},
   "outputs": [
    {
     "name": "stdout",
     "output_type": "stream",
     "text": [
      "50\n",
      "20\n",
      "40\n",
      "10\n",
      "30\n"
     ]
    }
   ],
   "source": [
    "# Accessing elements in a set\n",
    "# Direct indexing is not possible: set1[0] -> Error\n",
    "for element in set4:\n",
    "    print(element)"
   ]
  },
  {
   "cell_type": "code",
   "execution_count": 5,
   "id": "56ab005f",
   "metadata": {},
   "outputs": [
    {
     "name": "stdout",
     "output_type": "stream",
     "text": [
      "True\n",
      "False\n",
      "False\n"
     ]
    }
   ],
   "source": [
    "# Membership test\n",
    "print(10 in set4)      # True\n",
    "print(15 in set4)      # False\n",
    "print(20 not in set4)  # False"
   ]
  },
  {
   "cell_type": "code",
   "execution_count": 6,
   "id": "38d208f7",
   "metadata": {},
   "outputs": [
    {
     "name": "stdout",
     "output_type": "stream",
     "text": [
      "{50, 20, 40, 10, 60, 30}\n"
     ]
    }
   ],
   "source": [
    "# Adding elements\n",
    "set4.add(60)\n",
    "print(set4)"
   ]
  },
  {
   "cell_type": "code",
   "execution_count": 7,
   "id": "bb6db906",
   "metadata": {},
   "outputs": [
    {
     "name": "stdout",
     "output_type": "stream",
     "text": [
      "{80, 50, 20, 70, 40, 10, 60, 30}\n"
     ]
    }
   ],
   "source": [
    "# Update with multiple elements\n",
    "set4.update([70, 80])\n",
    "print(set4)"
   ]
  },
  {
   "cell_type": "code",
   "execution_count": 8,
   "id": "4312f64e",
   "metadata": {},
   "outputs": [
    {
     "name": "stdout",
     "output_type": "stream",
     "text": [
      "{80, 50, 20, 70, 40, 60, 30}\n"
     ]
    }
   ],
   "source": [
    "# Removing elements\n",
    "set4.remove(10)  # Removes 10, KeyError if not found\n",
    "print(set4)"
   ]
  },
  {
   "cell_type": "code",
   "execution_count": 9,
   "id": "d86431e7",
   "metadata": {},
   "outputs": [
    {
     "name": "stdout",
     "output_type": "stream",
     "text": [
      "{80, 50, 20, 70, 40, 60, 30}\n"
     ]
    }
   ],
   "source": [
    "set4.discard(200)  # No error if element not found\n",
    "print(set4)"
   ]
  },
  {
   "cell_type": "code",
   "execution_count": 10,
   "id": "305ad8ba",
   "metadata": {},
   "outputs": [
    {
     "name": "stdout",
     "output_type": "stream",
     "text": [
      "Removed: 80\n",
      "{50, 20, 70, 40, 60, 30}\n"
     ]
    }
   ],
   "source": [
    "# pop() removes a random element\n",
    "removed_element = set4.pop()\n",
    "print(\"Removed:\", removed_element)\n",
    "print(set4)"
   ]
  },
  {
   "cell_type": "code",
   "execution_count": 11,
   "id": "07ef5d32",
   "metadata": {},
   "outputs": [
    {
     "name": "stdout",
     "output_type": "stream",
     "text": [
      "set()\n"
     ]
    }
   ],
   "source": [
    "# Clearing a set\n",
    "set4.clear()\n",
    "print(set4)  # o/p -> set()"
   ]
  },
  {
   "cell_type": "code",
   "execution_count": 12,
   "id": "572a5bfd",
   "metadata": {},
   "outputs": [],
   "source": [
    "# Deleting a set completely\n",
    "set5 = {10, 20, 30}\n",
    "del set5\n",
    "# print(set5)  # NameError"
   ]
  },
  {
   "cell_type": "code",
   "execution_count": 13,
   "id": "87c2acc8",
   "metadata": {},
   "outputs": [],
   "source": [
    "# Set operations\n",
    "set1 = {10, 20, 30, 40}\n",
    "set2 = {30, 40, 50, 60}\n"
   ]
  },
  {
   "cell_type": "code",
   "execution_count": 14,
   "id": "c3962346",
   "metadata": {},
   "outputs": [
    {
     "name": "stdout",
     "output_type": "stream",
     "text": [
      "{40, 10, 50, 20, 60, 30}\n",
      "{40, 10, 50, 20, 60, 30}\n"
     ]
    }
   ],
   "source": [
    "# Union\n",
    "print(set1 | set2)         # using |\n",
    "print(set1.union(set2))    # using union()"
   ]
  },
  {
   "cell_type": "code",
   "execution_count": 15,
   "id": "b6a6d0ce",
   "metadata": {},
   "outputs": [
    {
     "name": "stdout",
     "output_type": "stream",
     "text": [
      "{40, 30}\n",
      "{40, 30}\n"
     ]
    }
   ],
   "source": [
    "# Intersection\n",
    "print(set1 & set2)         # using &\n",
    "print(set1.intersection(set2))"
   ]
  },
  {
   "cell_type": "code",
   "execution_count": 16,
   "id": "b5388fe8",
   "metadata": {},
   "outputs": [
    {
     "name": "stdout",
     "output_type": "stream",
     "text": [
      "{10, 20}\n",
      "{10, 20}\n"
     ]
    }
   ],
   "source": [
    "# Difference\n",
    "print(set1 - set2)         # elements in set1 but not in set2\n",
    "print(set1.difference(set2))"
   ]
  },
  {
   "cell_type": "code",
   "execution_count": 17,
   "id": "c899de16",
   "metadata": {},
   "outputs": [
    {
     "name": "stdout",
     "output_type": "stream",
     "text": [
      "{10, 50, 20, 60}\n",
      "{10, 50, 20, 60}\n"
     ]
    }
   ],
   "source": [
    "# Symmetric difference\n",
    "print(set1 ^ set2)         # elements in either set but not both\n",
    "print(set1.symmetric_difference(set2))\n"
   ]
  },
  {
   "cell_type": "code",
   "execution_count": 18,
   "id": "31cf9b22",
   "metadata": {},
   "outputs": [
    {
     "name": "stdout",
     "output_type": "stream",
     "text": [
      "False\n"
     ]
    }
   ],
   "source": [
    "# isdisjoint()\n",
    "print(set1.isdisjoint(set2))  # False"
   ]
  },
  {
   "cell_type": "code",
   "execution_count": 19,
   "id": "fe5c588c",
   "metadata": {},
   "outputs": [
    {
     "name": "stdout",
     "output_type": "stream",
     "text": [
      "True\n",
      "True\n"
     ]
    }
   ],
   "source": [
    "# issubset() and issuperset()\n",
    "print({10, 20}.issubset(set1))  # True\n",
    "print(set1.issuperset({10, 20})) # True"
   ]
  },
  {
   "cell_type": "code",
   "execution_count": 20,
   "id": "727049e9",
   "metadata": {},
   "outputs": [
    {
     "name": "stdout",
     "output_type": "stream",
     "text": [
      "{40, 10, 20, 30}\n"
     ]
    }
   ],
   "source": [
    "# Copying a set\n",
    "set3 = set1.copy()\n",
    "print(set3)"
   ]
  }
 ],
 "metadata": {
  "kernelspec": {
   "display_name": "base",
   "language": "python",
   "name": "python3"
  },
  "language_info": {
   "codemirror_mode": {
    "name": "ipython",
    "version": 3
   },
   "file_extension": ".py",
   "mimetype": "text/x-python",
   "name": "python",
   "nbconvert_exporter": "python",
   "pygments_lexer": "ipython3",
   "version": "3.11.5"
  }
 },
 "nbformat": 4,
 "nbformat_minor": 5
}
