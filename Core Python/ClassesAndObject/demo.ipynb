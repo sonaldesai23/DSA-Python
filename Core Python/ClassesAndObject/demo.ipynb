{
 "cells": [
  {
   "cell_type": "code",
   "execution_count": null,
   "id": "3d42da74",
   "metadata": {},
   "outputs": [
    {
     "name": "stdout",
     "output_type": "stream",
     "text": [
      "34\n"
     ]
    }
   ],
   "source": [
    "class demo:\n",
    "    def input(self, x):\n",
    "        self.x = x\n",
    "    def show(self):\n",
    "        print(self.x)\n",
    "        \n",
    "d = demo()\n",
    "d.input(34)\n",
    "d.show()"
   ]
  },
  {
   "cell_type": "code",
   "execution_count": 2,
   "id": "a6c7745f",
   "metadata": {},
   "outputs": [
    {
     "name": "stdout",
     "output_type": "stream",
     "text": [
      "Roll no is: 34\n",
      "name is: Sidd\n"
     ]
    }
   ],
   "source": [
    "class student:\n",
    "    def input(self, roll, nm):\n",
    "        self.nm = nm\n",
    "        self.roll = roll\n",
    "    def show(self):\n",
    "        print(\"Roll no is:\", self.roll)\n",
    "        print(\"name is:\",  self.nm)\n",
    "\n",
    "s = student()\n",
    "s.input(34,\"Sidd\")\n",
    "s.show()"
   ]
  },
  {
   "cell_type": "code",
   "execution_count": null,
   "id": "d4141e92",
   "metadata": {},
   "outputs": [],
   "source": []
  }
 ],
 "metadata": {
  "kernelspec": {
   "display_name": "base",
   "language": "python",
   "name": "python3"
  },
  "language_info": {
   "codemirror_mode": {
    "name": "ipython",
    "version": 3
   },
   "file_extension": ".py",
   "mimetype": "text/x-python",
   "name": "python",
   "nbconvert_exporter": "python",
   "pygments_lexer": "ipython3",
   "version": "3.11.5"
  }
 },
 "nbformat": 4,
 "nbformat_minor": 5
}
