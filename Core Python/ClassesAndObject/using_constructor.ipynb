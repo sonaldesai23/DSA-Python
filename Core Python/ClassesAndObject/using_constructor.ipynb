{
 "cells": [
  {
   "cell_type": "code",
   "execution_count": 10,
   "id": "1a066c4a",
   "metadata": {},
   "outputs": [
    {
     "name": "stdout",
     "output_type": "stream",
     "text": [
      "Roll no is: 78\n",
      "name is: cfyyt\n"
     ]
    }
   ],
   "source": [
    "class student:\n",
    "    def __init__(self):\n",
    "        self.nm = \"cfyyt\"\n",
    "        self.roll = 78\n",
    "    def show(self):\n",
    "        print(\"Roll no is:\", self.roll)\n",
    "        print(\"name is:\", self.nm)\n",
    "\n",
    "s = student()\n",
    "s.show()"
   ]
  },
  {
   "cell_type": "code",
   "execution_count": 17,
   "id": "3f021ac7",
   "metadata": {},
   "outputs": [
    {
     "name": "stdout",
     "output_type": "stream",
     "text": [
      "Roll no is: 23\n",
      "name is: Sonal\n"
     ]
    }
   ],
   "source": [
    "class student1:\n",
    "    def __init__(self,roll,nm):\n",
    "        self.nm = nm\n",
    "        self.roll = roll\n",
    "    def show(self):\n",
    "        print(\"Roll no is:\", self.roll)\n",
    "        print(\"name is:\", self.nm)\n",
    "\n",
    "\n",
    "# Use the existing variables 'roll' and 'nm'\n",
    "s = student1(roll, nm)\n",
    "s.show()"
   ]
  }
 ],
 "metadata": {
  "kernelspec": {
   "display_name": "base",
   "language": "python",
   "name": "python3"
  },
  "language_info": {
   "codemirror_mode": {
    "name": "ipython",
    "version": 3
   },
   "file_extension": ".py",
   "mimetype": "text/x-python",
   "name": "python",
   "nbconvert_exporter": "python",
   "pygments_lexer": "ipython3",
   "version": "3.11.5"
  }
 },
 "nbformat": 4,
 "nbformat_minor": 5
}
