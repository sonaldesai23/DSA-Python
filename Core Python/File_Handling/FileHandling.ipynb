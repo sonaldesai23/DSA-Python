{
 "cells": [
  {
   "cell_type": "code",
   "execution_count": null,
   "id": "ff5cd03b",
   "metadata": {},
   "outputs": [],
   "source": [
    "f = open(\"D:\\GITHUB REPOS\\DSA-Python\\Core Python\\File_Handling\\A.txt\", \"w\")\n",
    "f.write(\"1 Objective The primary objective of this experiment is to gain a practical understanding of fundamental probability distributions Gaussian, Multinomial, and Bernouli \\n by implementing functions to generate samples from them and visualizing their characteristics. \\n Students will observe how increasing sample sizes lead to empirical distributions that better approximate the true underlying probability distributions.\")\n",
    "print(\"Data written successfully\")"
   ]
  },
  {
   "cell_type": "code",
   "execution_count": null,
   "id": "53e1286c",
   "metadata": {},
   "outputs": [],
   "source": [
    "f = open(\"A.txt\", \"r\")\n",
    "print(f.read(30))\n",
    "print(\"Data written successfully\")"
   ]
  },
  {
   "cell_type": "code",
   "execution_count": null,
   "id": "51a55b06",
   "metadata": {},
   "outputs": [],
   "source": [
    "f = open(\"A.txt\",\"r\")\n",
    "print(f.readlines())\n",
    "print(\"Data read successfully\")"
   ]
  },
  {
   "cell_type": "code",
   "execution_count": null,
   "id": "43ead402",
   "metadata": {},
   "outputs": [],
   "source": [
    "# Using try catch\n",
    "try:\n",
    "    f = open(\"b.txt\", \"r\")\n",
    "    print(f.readlines())\n",
    "except:\n",
    "    print(\"File not avaialbe, create file first.\")\n",
    "else:\n",
    "    f.close()\n",
    "    print(\"File file closed\")"
   ]
  },
  {
   "cell_type": "code",
   "execution_count": null,
   "id": "efd472ff",
   "metadata": {},
   "outputs": [],
   "source": [
    "try:\n",
    "    with open(\"A.txt\") as f2:\n",
    "        with open(\"B.txt\") as f3:\n",
    "            for i in f2:\n",
    "                f3.write(i)\n",
    "except:\n",
    "    print(\"File not available\")\n",
    "else:\n",
    "    f.close()\n",
    "    print(\"File closed\")"
   ]
  },
  {
   "cell_type": "code",
   "execution_count": null,
   "id": "6c27fe82",
   "metadata": {},
   "outputs": [],
   "source": [
    "import os\n",
    "if os.path.exist(\"D:\\GITHUB REPOS\\DSA-Python\\Core Python\\File_Handling\\f3.txt\"):\n",
    "    os.remove(\"A.txt\")\n",
    "else:\n",
    "    print(\"File not found\")\n"
   ]
  }
 ],
 "metadata": {
  "kernelspec": {
   "display_name": "base",
   "language": "python",
   "name": "python3"
  },
  "language_info": {
   "codemirror_mode": {
    "name": "ipython",
    "version": 3
   },
   "file_extension": ".py",
   "mimetype": "text/x-python",
   "name": "python",
   "nbconvert_exporter": "python",
   "pygments_lexer": "ipython3",
   "version": "3.11.5"
  }
 },
 "nbformat": 4,
 "nbformat_minor": 5
}
