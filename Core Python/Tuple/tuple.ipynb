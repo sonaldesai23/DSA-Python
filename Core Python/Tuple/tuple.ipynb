{
 "cells": [
  {
   "cell_type": "code",
   "execution_count": 1,
   "id": "d6f6425b",
   "metadata": {},
   "outputs": [
    {
     "name": "stdout",
     "output_type": "stream",
     "text": [
      "(10, 20, 30, 46.77, 'Ravi', 2023, 'ABC')\n",
      "(2.55, 522, 95840)\n",
      "((10, 20, 30, 46.77, 'Ravi', 2023, 'ABC'), (2.55, 522, 95840), 458, 'Ravi')\n",
      "(100, [10, 20, 30], 40, (50, 'Ravi'), 60)\n",
      "()\n"
     ]
    }
   ],
   "source": [
    "# Declaring Tuples\n",
    "tuple1 = (10, 20, 30, 46.77, \"Ravi\", 2023, \"ABC\")\n",
    "tuple2 = (2.55, 522, 95840)\n",
    "tuple3 = (tuple1, tuple2, 458, \"Ravi\")\n",
    "tuple4 = (100, [10, 20, 30], 40, (50, \"Ravi\"), 60)\n",
    "tuple5 = ()\n",
    "print(tuple1)\n",
    "print(tuple2)\n",
    "print(tuple3)\n",
    "print(tuple4)\n",
    "print(tuple5)"
   ]
  },
  {
   "cell_type": "code",
   "execution_count": 2,
   "id": "2ce025bb",
   "metadata": {},
   "outputs": [
    {
     "name": "stdout",
     "output_type": "stream",
     "text": [
      "Type is: <class 'tuple'>\n"
     ]
    }
   ],
   "source": [
    "# Type checking\n",
    "tuple1 = 10, 20\n",
    "print(\"Type is:\", type(tuple1))  # o/p -> tuple\n"
   ]
  },
  {
   "cell_type": "code",
   "execution_count": 3,
   "id": "5d96834c",
   "metadata": {},
   "outputs": [
    {
     "name": "stdout",
     "output_type": "stream",
     "text": [
      "Type is: <class 'tuple'>\n"
     ]
    }
   ],
   "source": [
    "tuple2 = (10, 20)\n",
    "print(\"Type is:\", type(tuple2))  # o/p -> tuple\n"
   ]
  },
  {
   "cell_type": "code",
   "execution_count": 7,
   "id": "69bd2ad6",
   "metadata": {},
   "outputs": [
    {
     "name": "stdout",
     "output_type": "stream",
     "text": [
      "<class 'tuple'>\n",
      "<class 'int'>\n",
      "<class 'tuple'>\n",
      "<class 'tuple'>\n"
     ]
    }
   ],
   "source": [
    "# Empty tuple\n",
    "tuple1 = ()\n",
    "# Empty tuple with parentheses is valid, but tuple is immutable\n",
    "a = ()       # empty tuple -> type: tuple\n",
    "b = (10)     # single element without comma -> type: int\n",
    "c = (10, 20) # two elements -> type: tuple\n",
    "d = (10,) \n",
    "print(type(a))\n",
    "print(type(b))\n",
    "print(type(c))\n",
    "print(type(d))"
   ]
  },
  {
   "cell_type": "code",
   "execution_count": 8,
   "id": "a357e4cc",
   "metadata": {},
   "outputs": [
    {
     "name": "stdout",
     "output_type": "stream",
     "text": [
      "At index 0, we have: 10\n",
      "At index 3, we have: Ravi\n"
     ]
    }
   ],
   "source": [
    "# Accessing tuple elements\n",
    "tuple1 = (10, 20, 30, \"Ravi\", 40, 50)\n",
    "print(\"At index 0, we have:\", tuple1[0])  # o/p -> 10\n",
    "print(\"At index 3, we have:\", tuple1[3])  # o/p -> Ravi"
   ]
  },
  {
   "cell_type": "code",
   "execution_count": 9,
   "id": "b7bfa011",
   "metadata": {},
   "outputs": [
    {
     "name": "stdout",
     "output_type": "stream",
     "text": [
      "At index 0 element is: 10\n",
      "At index 1 element is: 20\n",
      "At index 2 element is: 30\n",
      "At index 3 element is: Ravi\n",
      "At index 4 element is: 50\n"
     ]
    }
   ],
   "source": [
    "# Using while loop\n",
    "tuple1 = (10, 20, 30, \"Ravi\", 50)\n",
    "i = 0\n",
    "while i < tuple1.__len__():\n",
    "    print(\"At index\", i, \"element is:\", tuple1[i])\n",
    "    i += 1"
   ]
  },
  {
   "cell_type": "code",
   "execution_count": 10,
   "id": "8ab818c0",
   "metadata": {},
   "outputs": [
    {
     "name": "stdout",
     "output_type": "stream",
     "text": [
      "30\n",
      "20\n",
      "10\n"
     ]
    }
   ],
   "source": [
    "# Negative indexing\n",
    "tuple1 = (10, 20, 30)\n",
    "print(tuple1[-1])  # o/p -> 30\n",
    "print(tuple1[-2])  # o/p -> 20\n",
    "print(tuple1[-3])  # o/p -> 10\n",
    "# print(tuple1[-4])  # IndexError"
   ]
  },
  {
   "cell_type": "code",
   "execution_count": 11,
   "id": "7af97e34",
   "metadata": {},
   "outputs": [
    {
     "name": "stdout",
     "output_type": "stream",
     "text": [
      "10\n",
      "20\n",
      "30\n"
     ]
    }
   ],
   "source": [
    "# For loop iteration\n",
    "tuple1 = (10, 20, 30)\n",
    "for ele in tuple1:\n",
    "    print(ele)  # o/p -> 10 20 30"
   ]
  },
  {
   "cell_type": "code",
   "execution_count": 12,
   "id": "4c63232a",
   "metadata": {},
   "outputs": [
    {
     "name": "stdout",
     "output_type": "stream",
     "text": [
      "('P', 'Y', 'T', 'H', 'O', 'N')\n"
     ]
    }
   ],
   "source": [
    "# Slicing tuple\n",
    "tuple1 = (\"P\", \"Y\", \"T\", \"H\", \"O\", \"N\")\n",
    "print(tuple1)                 # o/p -> ('P', 'Y', 'T', 'H', 'O', 'N')\n",
    "sliced_tuple1 = tuple1[2:5]   # elements from index 2 to 4\n",
    "sliced_tuple2 = tuple1[2:-1]  # from 2nd index till end-1\n",
    "sliced_tuple3 = tuple1[1:]    # from 1st index to end\n",
    "sliced_tuple4 = tuple1[:3]    # from start to index 2\n",
    "sliced_tuple5 = tuple1[:4]    # up to index 3\n",
    "sliced_tuple6 = tuple1[::-1]  # reverse"
   ]
  },
  {
   "cell_type": "code",
   "execution_count": 14,
   "id": "d8136576",
   "metadata": {},
   "outputs": [
    {
     "ename": "TypeError",
     "evalue": "'tuple' object does not support item assignment",
     "output_type": "error",
     "traceback": [
      "\u001b[1;31m---------------------------------------------------------------------------\u001b[0m",
      "\u001b[1;31mTypeError\u001b[0m                                 Traceback (most recent call last)",
      "Cell \u001b[1;32mIn[14], line 3\u001b[0m\n\u001b[0;32m      1\u001b[0m \u001b[38;5;66;03m# Tuple immutability\u001b[39;00m\n\u001b[0;32m      2\u001b[0m tuple1 \u001b[38;5;241m=\u001b[39m (\u001b[38;5;241m10\u001b[39m, \u001b[38;5;241m20\u001b[39m, \u001b[38;5;241m30\u001b[39m)\n\u001b[1;32m----> 3\u001b[0m tuple1[\u001b[38;5;241m1\u001b[39m] \u001b[38;5;241m=\u001b[39m \u001b[38;5;241m45\u001b[39m\n",
      "\u001b[1;31mTypeError\u001b[0m: 'tuple' object does not support item assignment"
     ]
    }
   ],
   "source": [
    "# Tuple immutability\n",
    "tuple1 = (10, 20, 30)\n",
    "tuple1[1] = 45  # TypeError"
   ]
  },
  {
   "cell_type": "code",
   "execution_count": 15,
   "id": "9c5f73ad",
   "metadata": {},
   "outputs": [
    {
     "name": "stdout",
     "output_type": "stream",
     "text": [
      "(10, 20, 30, 50, 60)\n"
     ]
    }
   ],
   "source": [
    "# Concatenation\n",
    "tuple1 = (10, 20, 30)\n",
    "tuple1 = tuple1 + (50, 60)\n",
    "print(tuple1)  # o/p -> (10, 20, 30, 50, 60)"
   ]
  },
  {
   "cell_type": "code",
   "execution_count": 16,
   "id": "398ccbca",
   "metadata": {},
   "outputs": [
    {
     "name": "stdout",
     "output_type": "stream",
     "text": [
      "Tuple1 has 4 elements\n"
     ]
    }
   ],
   "source": [
    "# Length of tuple\n",
    "tuple1 = (10, 20, 30, 40)\n",
    "a = tuple1.__len__()\n",
    "print(\"Tuple1 has\", a, \"elements\")"
   ]
  },
  {
   "cell_type": "code",
   "execution_count": 17,
   "id": "ceb92052",
   "metadata": {},
   "outputs": [
    {
     "name": "stdout",
     "output_type": "stream",
     "text": [
      "True\n",
      "False\n",
      "False\n",
      "True\n"
     ]
    }
   ],
   "source": [
    "# Membership operators\n",
    "tuple1 = (10, 20, 30, \"Ravi\", 40, 50)\n",
    "print(10 in tuple1)        # True\n",
    "print(25 in tuple1)        # False\n",
    "print(40 not in tuple1)    # False\n",
    "print(55 not in tuple1)    # True"
   ]
  },
  {
   "cell_type": "code",
   "execution_count": 18,
   "id": "19905c11",
   "metadata": {},
   "outputs": [
    {
     "name": "stdout",
     "output_type": "stream",
     "text": [
      "(10, 20, 30, 40, 'Ravi', 50)\n",
      "(40, 'Ravi', 50, 10, 20, 30)\n",
      "((10, 20, 30), (40, 'Ravi', 50))\n"
     ]
    }
   ],
   "source": [
    "# Tuple concatenation\n",
    "tuple1 = (10, 20, 30)\n",
    "tuple2 = (40, \"Ravi\", 50)\n",
    "tuple3 = tuple1 + tuple2\n",
    "print(tuple3)  # (10, 20, 30, 40, \"Ravi\", 50)\n",
    "\n",
    "tuple4 = tuple2 + tuple1\n",
    "print(tuple4)\n",
    "\n",
    "tuple5 = (tuple1, tuple2)   # nested tuple\n",
    "print(tuple5)"
   ]
  },
  {
   "cell_type": "code",
   "execution_count": 19,
   "id": "96e0ffc3",
   "metadata": {},
   "outputs": [
    {
     "name": "stdout",
     "output_type": "stream",
     "text": [
      "(10, 20, 30, 10, 20, 30, 10, 20, 30)\n"
     ]
    }
   ],
   "source": [
    "# Multiplication\n",
    "tuple1 = (10, 20, 30)\n",
    "tuple2 = tuple1 * 3\n",
    "print(tuple2)"
   ]
  },
  {
   "cell_type": "code",
   "execution_count": 20,
   "id": "f56f8a1d",
   "metadata": {},
   "outputs": [
    {
     "name": "stdout",
     "output_type": "stream",
     "text": [
      "(10, 20, 30, 35, 45, 20, 60)\n",
      "Element 20 appears 2 times in tuple2\n",
      "Element 20 first appears at 1 index in tuple2\n"
     ]
    }
   ],
   "source": [
    "# Built-in functions\n",
    "tuple1 = (10, 20, 30)\n",
    "tuple2 = tuple1.__add__((35, 45, 20, 60))\n",
    "print(tuple2)\n",
    "\n",
    "a = tuple2.count(20)\n",
    "print(\"Element 20 appears\", a, \"times in tuple2\")\n",
    "\n",
    "b = tuple2.index(20)\n",
    "print(\"Element 20 first appears at\", b, \"index in tuple2\")\n"
   ]
  },
  {
   "cell_type": "code",
   "execution_count": 22,
   "id": "506097ad",
   "metadata": {},
   "outputs": [
    {
     "ename": "NameError",
     "evalue": "name 'tuple1' is not defined",
     "output_type": "error",
     "traceback": [
      "\u001b[1;31m---------------------------------------------------------------------------\u001b[0m",
      "\u001b[1;31mNameError\u001b[0m                                 Traceback (most recent call last)",
      "Cell \u001b[1;32mIn[22], line 4\u001b[0m\n\u001b[0;32m      2\u001b[0m tuple1 \u001b[38;5;241m=\u001b[39m (\u001b[38;5;241m10\u001b[39m, \u001b[38;5;241m20\u001b[39m, \u001b[38;5;124m\"\u001b[39m\u001b[38;5;124mRavi\u001b[39m\u001b[38;5;124m\"\u001b[39m, \u001b[38;5;241m30\u001b[39m)\n\u001b[0;32m      3\u001b[0m \u001b[38;5;28;01mdel\u001b[39;00m tuple1\n\u001b[1;32m----> 4\u001b[0m \u001b[38;5;28mprint\u001b[39m(tuple1)\n",
      "\u001b[1;31mNameError\u001b[0m: name 'tuple1' is not defined"
     ]
    }
   ],
   "source": [
    "#  Deleting a tuple\n",
    "tuple1 = (10, 20, \"Ravi\", 30)\n",
    "del tuple1\n",
    "print(tuple1)  # NameError: tuple1 is not defined\n"
   ]
  }
 ],
 "metadata": {
  "kernelspec": {
   "display_name": "base",
   "language": "python",
   "name": "python3"
  },
  "language_info": {
   "codemirror_mode": {
    "name": "ipython",
    "version": 3
   },
   "file_extension": ".py",
   "mimetype": "text/x-python",
   "name": "python",
   "nbconvert_exporter": "python",
   "pygments_lexer": "ipython3",
   "version": "3.11.5"
  }
 },
 "nbformat": 4,
 "nbformat_minor": 5
}
