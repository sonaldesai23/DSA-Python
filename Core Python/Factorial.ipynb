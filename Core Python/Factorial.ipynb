{
 "cells": [
  {
   "cell_type": "code",
   "execution_count": 1,
   "id": "1afa5e8c",
   "metadata": {},
   "outputs": [
    {
     "name": "stdout",
     "output_type": "stream",
     "text": [
      "Factorial is: 120\n"
     ]
    }
   ],
   "source": [
    "#Using for loop\n",
    "num = int(input(\"Enter the number of which u want factorial:\"))\n",
    "fact = 1\n",
    "for i in range(1, num + 1):\n",
    "    fact = fact * i\n",
    "    # fact *= i\n",
    "print(\"Factorial is:\", fact)\n"
   ]
  },
  {
   "cell_type": "code",
   "execution_count": 3,
   "id": "5492ad94",
   "metadata": {},
   "outputs": [
    {
     "name": "stdout",
     "output_type": "stream",
     "text": [
      "Factorial is: 120\n"
     ]
    }
   ],
   "source": [
    "#Using while loop\n",
    "num = int(input(\"Enter the number of which u want factorial:\"))\n",
    "fact = 1\n",
    "while num > 0:\n",
    "    fact *= num\n",
    "    # fact *= i\n",
    "    num = num -1\n",
    "print(\"Factorial is:\", fact)"
   ]
  }
 ],
 "metadata": {
  "kernelspec": {
   "display_name": "base",
   "language": "python",
   "name": "python3"
  },
  "language_info": {
   "codemirror_mode": {
    "name": "ipython",
    "version": 3
   },
   "file_extension": ".py",
   "mimetype": "text/x-python",
   "name": "python",
   "nbconvert_exporter": "python",
   "pygments_lexer": "ipython3",
   "version": "3.11.5"
  }
 },
 "nbformat": 4,
 "nbformat_minor": 5
}
