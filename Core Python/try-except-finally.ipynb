{
 "cells": [
  {
   "cell_type": "code",
   "execution_count": 3,
   "id": "84a0edcd",
   "metadata": {},
   "outputs": [
    {
     "name": "stdout",
     "output_type": "stream",
     "text": [
      "20\n",
      "Invalid Index.\n"
     ]
    }
   ],
   "source": [
    "a = {20, 40, 60}\n",
    "try:\n",
    "    a_list = list(a)\n",
    "    print(a_list[1])\n",
    "    print(a_list[3])\n",
    "except IndexError:\n",
    "    print(\"Invalid Index.\")"
   ]
  },
  {
   "cell_type": "code",
   "execution_count": null,
   "id": "83bcc8cc",
   "metadata": {},
   "outputs": [
    {
     "name": "stdout",
     "output_type": "stream",
     "text": [
      "Cannot divide by zero.\n"
     ]
    }
   ],
   "source": [
    "try:\n",
    "    a = 25/0\n",
    "    print(a)\n",
    "    print(b)\n",
    "except ZeroDivisionError:\n",
    "    print(\"Cannot divide by zero.\")\n",
    "except NameError:\n",
    "    print(\"No such variable name.\")"
   ]
  },
  {
   "cell_type": "code",
   "execution_count": 5,
   "id": "d7de72ec",
   "metadata": {},
   "outputs": [
    {
     "name": "stdout",
     "output_type": "stream",
     "text": [
      "40\n",
      "Invalid Index.\n",
      "This has to be executed.\n"
     ]
    }
   ],
   "source": [
    "a = [20, 40, 60]\n",
    "try:\n",
    "    print(a[1])\n",
    "    print(a[3])\n",
    "except IndexError:\n",
    "    print(\"Invalid Index.\")\n",
    "finally:\n",
    "    print(\"This has to be executed.\")"
   ]
  },
  {
   "cell_type": "code",
   "execution_count": 8,
   "id": "9f4d854c",
   "metadata": {},
   "outputs": [
    {
     "name": "stdout",
     "output_type": "stream",
     "text": [
      "Try block starts.\n",
      "ErrorOccured\n"
     ]
    }
   ],
   "source": [
    "# THe raise statement or handling Raising exception\n",
    "try:\n",
    "    print(\"Try block starts.\")\n",
    "    raise NameError(\"hi,there\")\n",
    "except NameError:\n",
    "    print(\"ErrorOccured\")"
   ]
  }
 ],
 "metadata": {
  "kernelspec": {
   "display_name": "base",
   "language": "python",
   "name": "python3"
  },
  "language_info": {
   "codemirror_mode": {
    "name": "ipython",
    "version": 3
   },
   "file_extension": ".py",
   "mimetype": "text/x-python",
   "name": "python",
   "nbconvert_exporter": "python",
   "pygments_lexer": "ipython3",
   "version": "3.11.5"
  }
 },
 "nbformat": 4,
 "nbformat_minor": 5
}
