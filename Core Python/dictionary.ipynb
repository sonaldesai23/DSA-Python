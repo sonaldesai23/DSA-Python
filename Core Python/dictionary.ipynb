{
 "cells": [
  {
   "cell_type": "code",
   "execution_count": null,
   "id": "d43bbd3e",
   "metadata": {},
   "outputs": [
    {
     "name": "stdout",
     "output_type": "stream",
     "text": [
      "sidd\n",
      "[2, 5, 6, 5]\n"
     ]
    }
   ],
   "source": [
    "dict1 = {}\n",
    "dict2 = {1:\"aapple\", 2:\"guava\", 3:[2,5,6,5], \"name\":\"sidd\"}\n",
    "# print(dict1)\n",
    "# print(dict2)\n",
    "\n",
    "# Accessing dit ele using index numbers\n",
    "print(dict2[\"name\"])\n",
    "print(dict2[3])\n",
    "# KEYS ARE CASE SENSITIVE\n"
   ]
  },
  {
   "cell_type": "code",
   "execution_count": 8,
   "id": "15ad988f",
   "metadata": {},
   "outputs": [
    {
     "name": "stdout",
     "output_type": "stream",
     "text": [
      "ravi\n",
      "sidd\n",
      "sonal\n",
      "Using get function\n",
      "23/10\n",
      "23/10\n",
      "23/10\n"
     ]
    }
   ],
   "source": [
    "# Using for loop\n",
    "dict3 = {\"ravi\":\"27/3\", \"sidd\":\"21/2\", \"sonal\":\"23/10\"}\n",
    "for i in dict3:\n",
    "    print(i)\n",
    "print(\"Using get function\")\n",
    "for j in dict3:\n",
    "    print(dict3.get(i))"
   ]
  },
  {
   "cell_type": "code",
   "execution_count": 10,
   "id": "6f69b40b",
   "metadata": {},
   "outputs": [
    {
     "name": "stdout",
     "output_type": "stream",
     "text": [
      "the keys() fun will return dict_keys(['ravi', 'sidd', 'sonal'])\n",
      "values() -  dict_values(['27/3', '21/2', '23/10'])\n"
     ]
    }
   ],
   "source": [
    "# keys() and values() function\n",
    "dict4 = {\"ravi\":\"27/3\", \"sidd\":\"21/2\", \"sonal\":\"23/10\"}\n",
    "print(\"the keys() fun will return\", dict4.keys())\n",
    "print(\"values() - \", dict4.values())"
   ]
  },
  {
   "cell_type": "code",
   "execution_count": 16,
   "id": "6adbb504",
   "metadata": {},
   "outputs": [
    {
     "name": "stdout",
     "output_type": "stream",
     "text": [
      "{'ravi': '27/3', 'sidd': '21/2', 'sonal': '23/10', 'pratiksha': '15/12'}\n",
      "{'ravi': '27/3', 'sidd': '21/2', 'sonal': '23/10', 'pratiksha': '15/12', 1: 'aapple', 2: 'guava', 3: [2, 5, 6, 5], 'name': 'sidd'}\n"
     ]
    }
   ],
   "source": [
    "# Basic dict operation\n",
    "dict4 = {\"ravi\":\"27/3\", \"sidd\":\"21/2\", \"sonal\":\"23/10\"}\n",
    "dict4.update({\"pratiksha\":\"15/12\"})\n",
    "print(dict4)\n",
    "dict4.update(dict2)\n",
    "print(dict4)"
   ]
  },
  {
   "cell_type": "code",
   "execution_count": 17,
   "id": "7575ac9e",
   "metadata": {},
   "outputs": [
    {
     "name": "stdout",
     "output_type": "stream",
     "text": [
      "8\n"
     ]
    }
   ],
   "source": [
    "# find length\n",
    "a = dict4.__len__()\n",
    "print(a)"
   ]
  },
  {
   "cell_type": "code",
   "execution_count": 18,
   "id": "e7d0d03c",
   "metadata": {},
   "outputs": [
    {
     "name": "stdout",
     "output_type": "stream",
     "text": [
      "{1: 1000, 2: 200, 3: 300, 4: 400}\n"
     ]
    }
   ],
   "source": [
    "# updating dict using assignment operator to overrite values\n",
    "dict5 = {1:100, 2:200, 3:300, 4:400}\n",
    "dict5[1] = 1000\n",
    "print(dict5)"
   ]
  },
  {
   "cell_type": "code",
   "execution_count": 20,
   "id": "e466e998",
   "metadata": {},
   "outputs": [
    {
     "name": "stdout",
     "output_type": "stream",
     "text": [
      "{1: 1000, 2: 200, 3: 300, 4: 500, 5: 9797}\n"
     ]
    }
   ],
   "source": [
    "# NOTE: if the key-value pair does not exist in dict, it will append\n",
    "dict5[4] = 500\n",
    "dict5[5] = 9797\n",
    "print(dict5)"
   ]
  },
  {
   "cell_type": "code",
   "execution_count": 26,
   "id": "c156533d",
   "metadata": {},
   "outputs": [
    {
     "ename": "KeyError",
     "evalue": "4",
     "output_type": "error",
     "traceback": [
      "\u001b[1;31m---------------------------------------------------------------------------\u001b[0m",
      "\u001b[1;31mKeyError\u001b[0m                                  Traceback (most recent call last)",
      "Cell \u001b[1;32mIn[26], line 2\u001b[0m\n\u001b[0;32m      1\u001b[0m \u001b[38;5;66;03m# remove ele: pop(), popitem(), clear()\u001b[39;00m\n\u001b[1;32m----> 2\u001b[0m \u001b[38;5;28;01mdel\u001b[39;00m dict5[\u001b[38;5;241m4\u001b[39m]\n\u001b[0;32m      3\u001b[0m \u001b[38;5;28mprint\u001b[39m(dict5)\n",
      "\u001b[1;31mKeyError\u001b[0m: 4"
     ]
    }
   ],
   "source": [
    "# remove ele: pop(), popitem(), clear()\n",
    "del dict5[4]\n",
    "print(dict5)\n",
    "\n"
   ]
  },
  {
   "cell_type": "code",
   "execution_count": null,
   "id": "9547f0eb",
   "metadata": {},
   "outputs": [
    {
     "name": "stdout",
     "output_type": "stream",
     "text": [
      "{1: 1000, 2: 200, 3: 300}\n"
     ]
    }
   ],
   "source": [
    "dict5.popitem() #pop last key-value pair\n",
    "print(dict5)"
   ]
  },
  {
   "cell_type": "code",
   "execution_count": 28,
   "id": "9ade7ff6",
   "metadata": {},
   "outputs": [
    {
     "name": "stdout",
     "output_type": "stream",
     "text": [
      "{}\n"
     ]
    }
   ],
   "source": [
    "dict5.clear()\n",
    "print(dict5)"
   ]
  },
  {
   "cell_type": "markdown",
   "id": "d2dab9ee",
   "metadata": {},
   "source": [
    "Built-in Dictionary Functions"
   ]
  },
  {
   "cell_type": "code",
   "execution_count": null,
   "id": "f522c062",
   "metadata": {},
   "outputs": [
    {
     "name": "stdout",
     "output_type": "stream",
     "text": [
      "{'ravi': '27/3', 'sidd': '21/2', 'sonal': '23/10'}\n"
     ]
    }
   ],
   "source": [
    "dict1 = {\"ravi\":\"27/3\", \"sidd\":\"21/2\", \"sonal\":\"23/10\"}\n",
    "dict1.copy()\n",
    "\n",
    "print(dict1)"
   ]
  }
 ],
 "metadata": {
  "kernelspec": {
   "display_name": "base",
   "language": "python",
   "name": "python3"
  },
  "language_info": {
   "codemirror_mode": {
    "name": "ipython",
    "version": 3
   },
   "file_extension": ".py",
   "mimetype": "text/x-python",
   "name": "python",
   "nbconvert_exporter": "python",
   "pygments_lexer": "ipython3",
   "version": "3.11.5"
  }
 },
 "nbformat": 4,
 "nbformat_minor": 5
}
